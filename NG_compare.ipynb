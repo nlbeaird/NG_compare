{
 "cells": [
  {
   "cell_type": "markdown",
   "metadata": {},
   "source": [
    "## Plot up the noble gas data from Atasund, Jakobshavn, and Sermilik"
   ]
  },
  {
   "cell_type": "code",
   "execution_count": 2,
   "metadata": {},
   "outputs": [],
   "source": [
    "import matplotlib.pyplot as plt\n",
    "import pandas as pd\n",
    "import seaborn as sns\n",
    "import numpy as np\n",
    "%matplotlib inline\n",
    "sns.set_style(\"darkgrid\")"
   ]
  },
  {
   "cell_type": "code",
   "execution_count": 9,
   "metadata": {},
   "outputs": [
    {
     "name": "stdout",
     "output_type": "stream",
     "text": [
      "  cruise  station  pressure  temperature  salinity  bottle  duplicate  \\\n",
      "0   NLB2        3   348.590     3.062841    34.668       4          0   \n",
      "1   NLB2        3   549.530     3.329209    34.733       2          0   \n",
      "2   NLB2        3   676.810     3.458174    34.759       1          0   \n",
      "3   NLB2        4    99.731     0.697784    33.572       8          0   \n",
      "4   NLB2        4   149.110     2.079189    34.119       7          0   \n",
      "\n",
      "    Del3HeC           CHe           CNe       CAr           CKr           CXe  \\\n",
      "0 -1.388644  4.182880e-08  1.813060e-07  0.000354  8.505346e-08  1.267474e-08   \n",
      "1 -1.629538  4.115493e-08  1.796889e-07  0.000353  8.499129e-08  1.265108e-08   \n",
      "2 -1.114626  4.082559e-08  1.779882e-07  0.000350  8.418124e-08  1.254072e-08   \n",
      "3 -6.546533  5.184951e-08  2.068637e-07  0.000372  8.848592e-08  1.318815e-08   \n",
      "4 -3.625639  4.928658e-08  2.031610e-07  0.000364  8.610520e-08  1.269409e-08   \n",
      "\n",
      "       DelHe      DelNe     DelAr     DelKr     DelXe          C3He  \n",
      "0   6.660945   5.178231  0.426956 -0.893703 -3.798716  5.708716e-14  \n",
      "1   5.099549   4.524312  0.618410 -0.112926 -3.013621  5.603026e-14  \n",
      "2   4.330013   3.667221  0.212320 -0.658685 -3.398837  5.587283e-14  \n",
      "3  29.969332  16.634334 -1.551749 -4.997657 -8.952986  6.706195e-14  \n",
      "4  24.739133  16.418716  0.307475 -3.061407 -7.402905  6.573948e-14  \n"
     ]
    }
   ],
   "source": [
    "# load in the Sermilik data\n",
    "\n",
    "SERMdata = pd.read_excel('/Users/beaird/Google Drive/data/greenland/cruise_data/2015/SERM2015/noble_gas_data/NLB2_Data_remove3bad.xlsx', sheet_name=0 ) \n",
    "\n",
    "# lets replace the annoying parenthesis in the column headers\n",
    "SERMdata.columns = SERMdata.columns.str.replace(\"[()]\", \"\")\n",
    "\n",
    "# add the d3He concentration:\n",
    "\n",
    "SERMdata['C3He'] = SERMdata.CHe*(1.384e-6)*(1+SERMdata.Del3HeC/100);\n",
    "\n",
    "print(SERMdata.head())"
   ]
  },
  {
   "cell_type": "code",
   "execution_count": 11,
   "metadata": {},
   "outputs": [
    {
     "ename": "SyntaxError",
     "evalue": "invalid syntax (<ipython-input-11-74cbf7e1423f>, line 3)",
     "output_type": "error",
     "traceback": [
      "\u001b[0;36m  File \u001b[0;32m\"<ipython-input-11-74cbf7e1423f>\"\u001b[0;36m, line \u001b[0;32m3\u001b[0m\n\u001b[0;31m    plt.xlim([1.7e-7 2.7e-7])\u001b[0m\n\u001b[0m                          ^\u001b[0m\n\u001b[0;31mSyntaxError\u001b[0m\u001b[0;31m:\u001b[0m invalid syntax\n"
     ]
    }
   ],
   "source": [
    "\n",
    "plt.scatter(SERMdata.CNe, SERMdata.CHe)\n",
    "plt.xlim([1.7e-7 2.7e-7])\n"
   ]
  },
  {
   "cell_type": "code",
   "execution_count": null,
   "metadata": {},
   "outputs": [],
   "source": []
  }
 ],
 "metadata": {
  "kernelspec": {
   "display_name": "Python 3",
   "language": "python",
   "name": "python3"
  },
  "language_info": {
   "codemirror_mode": {
    "name": "ipython",
    "version": 3
   },
   "file_extension": ".py",
   "mimetype": "text/x-python",
   "name": "python",
   "nbconvert_exporter": "python",
   "pygments_lexer": "ipython3",
   "version": "3.6.1"
  }
 },
 "nbformat": 4,
 "nbformat_minor": 2
}
